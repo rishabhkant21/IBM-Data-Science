{
 "cells": [
  {
   "cell_type": "markdown",
   "id": "743432c7-5a7c-431b-a5df-95d183d9c84d",
   "metadata": {},
   "source": [
    "# Data Science Tools and Ecosystem"
   ]
  },
  {
   "cell_type": "markdown",
   "id": "439dd133-c5e3-48ef-a454-30f4edfd5780",
   "metadata": {},
   "source": [
    "## In this notebook, Data Science Tools and Ecosystem are summarized."
   ]
  },
  {
   "cell_type": "markdown",
   "id": "233bc988-6984-44cf-a1d2-9b354d06bbb7",
   "metadata": {},
   "source": [
    "## **Objectives**:\n",
    "* Polular Languages in Data Science\n",
    "* Commonly used Libraries in Data Science\n",
    "* Data Science Tools\n",
    "* Basic Arithmetic Operations"
   ]
  },
  {
   "cell_type": "markdown",
   "id": "c206c028-9a21-4039-992b-933525e94e99",
   "metadata": {},
   "source": [
    "### Some of the popular languages that Data Scientists use are:\n",
    "1. Python\n",
    "2. R\n",
    "3. Julia\n",
    "3. Scala\n",
    "4. Javascript"
   ]
  },
  {
   "cell_type": "markdown",
   "id": "585c36d6-f687-43f8-9241-9de2d12c2efa",
   "metadata": {},
   "source": [
    "### Some of the commonly used libraries used by Data Scientists include:\n",
    "1. Pandas\n",
    "2. Scikit-Learn\n",
    "3. Matplotlib\n",
    "4. Seaborn"
   ]
  },
  {
   "cell_type": "markdown",
   "id": "cbe0841e-e9e5-4cd9-b750-12f06b603c05",
   "metadata": {},
   "source": [
    "### Data Science Tools\n",
    "    ____________\n",
    "    | Jupyter |\n",
    "    | RStudio |\n",
    "    | Apache Spark |"
   ]
  },
  {
   "cell_type": "code",
   "execution_count": null,
   "id": "b26e2052-ffbd-4ba6-a192-65e9baca4c99",
   "metadata": {},
   "outputs": [],
   "source": []
  },
  {
   "cell_type": "markdown",
   "id": "92dba49d-6099-44a2-9066-338b6e063e30",
   "metadata": {},
   "source": [
    "### Below are a few examples of evaluating arithmetic expressions in Python"
   ]
  },
  {
   "cell_type": "code",
   "execution_count": 1,
   "id": "5e72e8a9-1fcc-4eaa-a0a2-435bfbb010c6",
   "metadata": {
    "tags": []
   },
   "outputs": [
    {
     "data": {
      "text/plain": [
       "17"
      ]
     },
     "execution_count": 1,
     "metadata": {},
     "output_type": "execute_result"
    }
   ],
   "source": [
    "# This a simple arithmetic expression to mutiply then add integers.\n",
    "(3*4)+5"
   ]
  },
  {
   "cell_type": "code",
   "execution_count": 3,
   "id": "5277e6a6-3641-4fb2-8e38-29ebbc369e25",
   "metadata": {
    "tags": []
   },
   "outputs": [
    {
     "name": "stdout",
     "output_type": "stream",
     "text": [
      "3.33 hours\n"
     ]
    }
   ],
   "source": [
    "# This a simple arithmetic expression to mutiply then add integers\n",
    "hrs = 200/60\n",
    "print(f\"{round(hrs,2)} hours\")"
   ]
  },
  {
   "cell_type": "markdown",
   "id": "7eeb302a-c097-4249-88eb-f74c7057783d",
   "metadata": {},
   "source": [
    "## Author\n",
    "Rishabh Kant Misra"
   ]
  },
  {
   "cell_type": "code",
   "execution_count": null,
   "id": "61bca417-18e4-470b-80ab-cfdc3ee01a14",
   "metadata": {},
   "outputs": [],
   "source": []
  }
 ],
 "metadata": {
  "kernelspec": {
   "display_name": "Python 3 (ipykernel)",
   "language": "python",
   "name": "python3"
  },
  "language_info": {
   "codemirror_mode": {
    "name": "ipython",
    "version": 3
   },
   "file_extension": ".py",
   "mimetype": "text/x-python",
   "name": "python",
   "nbconvert_exporter": "python",
   "pygments_lexer": "ipython3",
   "version": "3.11.5"
  }
 },
 "nbformat": 4,
 "nbformat_minor": 5
}
